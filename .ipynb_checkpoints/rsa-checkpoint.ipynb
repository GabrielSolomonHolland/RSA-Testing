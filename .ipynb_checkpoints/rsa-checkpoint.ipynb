{
 "cells": [
  {
   "cell_type": "code",
   "execution_count": null,
   "id": "circular-factory",
   "metadata": {},
   "outputs": [],
   "source": [
    "# thanks https://github.com/aleaxit/gmpy/issues/116 !\n",
    "import gmpy2\n",
    "\n",
    "def str2int(s):\n",
    "    return gmpy2.pack(list(s.encode()), 8)\n",
    "\n",
    "def int2str(n):\n",
    "    return bytes(gmpy2.unpack(gmpy2.mpz(n), 8)).decode()"
   ]
  },
  {
   "cell_type": "code",
   "execution_count": null,
   "id": "attached-cycling",
   "metadata": {},
   "outputs": [],
   "source": [
    "#gmpy2.next_prime finds the next prime after that number\n",
    "p = gmpy2.next_prime(4206942069420691234123456785678)\n",
    "q = gmpy2.next_prime(658548751454832985448157948843845478)\n",
    "\n",
    "#N value is p * q\n",
    "n = p*q\n",
    "\n",
    "\n",
    "phi = (p-1) * (q-1)\n",
    "e=3\n",
    "\n",
    "while gmpty2.gcd(e, phi) != 1:\n",
    "    e +=2\n",
    "    \n",
    "#d * e is congruent to 1%phi\n",
    "\n",
    "d= gmpy2.invert(e,phi)"
   ]
  },
  {
   "cell_type": "code",
   "execution_count": null,
   "id": "comprehensive-channels",
   "metadata": {},
   "outputs": [],
   "source": [
    "def encodeInt(message, n, e):\n",
    "    return gmpy2.powmod(message, e, n)\n",
    "\n",
    "def decodeInt(encrypted,n,d):\n",
    "    return gmpy2.powmod(encrypted,d,n)"
   ]
  },
  {
   "cell_type": "code",
   "execution_count": null,
   "id": "emotional-choir",
   "metadata": {},
   "outputs": [],
   "source": [
    "print('Public: ', (n,e))\n",
    "\n",
    "#Don't print your private key stoopid\n",
    "print('Private: ', d)"
   ]
  },
  {
   "cell_type": "code",
   "execution_count": null,
   "id": "acknowledged-patch",
   "metadata": {},
   "outputs": [],
   "source": [
    "encoded = encodeInt(12345, n, e)\n",
    "print(encoded)"
   ]
  },
  {
   "cell_type": "code",
   "execution_count": null,
   "id": "responsible-settlement",
   "metadata": {},
   "outputs": [],
   "source": [
    "print(decodeInt(encoded, n, d))"
   ]
  },
  {
   "cell_type": "code",
   "execution_count": null,
   "id": "standard-worker",
   "metadata": {},
   "outputs": [],
   "source": [
    "#Work with strings?\n",
    "encoded = encodeInt(string2int('wassup homie'), n, e)\n",
    "decoded = int2str(decodeInt(encoded, n, d))\n",
    "\n",
    "print(decoded)\n",
    "\n",
    "print(encoded)"
   ]
  }
 ],
 "metadata": {
  "kernelspec": {
   "display_name": "Python 3",
   "language": "python",
   "name": "python3"
  },
  "language_info": {
   "codemirror_mode": {
    "name": "ipython",
    "version": 3
   },
   "file_extension": ".py",
   "mimetype": "text/x-python",
   "name": "python",
   "nbconvert_exporter": "python",
   "pygments_lexer": "ipython3",
   "version": "3.9.1"
  }
 },
 "nbformat": 4,
 "nbformat_minor": 5
}
