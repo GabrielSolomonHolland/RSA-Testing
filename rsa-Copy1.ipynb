{
 "cells": [
  {
   "cell_type": "code",
   "execution_count": 3,
   "id": "developed-correlation",
   "metadata": {},
   "outputs": [
    {
     "ename": "ModuleNotFoundError",
     "evalue": "No module named 'gmpy2'",
     "output_type": "error",
     "traceback": [
      "\u001b[1;31m---------------------------------------------------------------------------\u001b[0m",
      "\u001b[1;31mModuleNotFoundError\u001b[0m                       Traceback (most recent call last)",
      "\u001b[1;32m<ipython-input-3-05a94abdb85f>\u001b[0m in \u001b[0;36m<module>\u001b[1;34m\u001b[0m\n\u001b[0;32m      1\u001b[0m \u001b[1;31m# thanks https://github.com/aleaxit/gmpy/issues/116 !\u001b[0m\u001b[1;33m\u001b[0m\u001b[1;33m\u001b[0m\u001b[1;33m\u001b[0m\u001b[0m\n\u001b[1;32m----> 2\u001b[1;33m \u001b[1;32mimport\u001b[0m \u001b[0mgmpy2\u001b[0m\u001b[1;33m\u001b[0m\u001b[1;33m\u001b[0m\u001b[0m\n\u001b[0m\u001b[0;32m      3\u001b[0m \u001b[1;33m\u001b[0m\u001b[0m\n\u001b[0;32m      4\u001b[0m \u001b[1;32mdef\u001b[0m \u001b[0mstr2int\u001b[0m\u001b[1;33m(\u001b[0m\u001b[0ms\u001b[0m\u001b[1;33m)\u001b[0m\u001b[1;33m:\u001b[0m\u001b[1;33m\u001b[0m\u001b[1;33m\u001b[0m\u001b[0m\n\u001b[0;32m      5\u001b[0m     \u001b[1;32mreturn\u001b[0m \u001b[0mgmpy2\u001b[0m\u001b[1;33m.\u001b[0m\u001b[0mpack\u001b[0m\u001b[1;33m(\u001b[0m\u001b[0mlist\u001b[0m\u001b[1;33m(\u001b[0m\u001b[0ms\u001b[0m\u001b[1;33m.\u001b[0m\u001b[0mencode\u001b[0m\u001b[1;33m(\u001b[0m\u001b[1;33m)\u001b[0m\u001b[1;33m)\u001b[0m\u001b[1;33m,\u001b[0m \u001b[1;36m8\u001b[0m\u001b[1;33m)\u001b[0m\u001b[1;33m\u001b[0m\u001b[1;33m\u001b[0m\u001b[0m\n",
      "\u001b[1;31mModuleNotFoundError\u001b[0m: No module named 'gmpy2'"
     ]
    }
   ],
   "source": [
    "# thanks https://github.com/aleaxit/gmpy/issues/116 !\n",
    "import gmpy2\n",
    "\n",
    "def str2int(s):\n",
    "    return gmpy2.pack(list(s.encode()), 8)\n",
    "\n",
    "def int2str(n):\n",
    "    return bytes(gmpy2.unpack(gmpy2.mpz(n), 8)).decode()"
   ]
  },
  {
   "cell_type": "code",
   "execution_count": 1,
   "id": "arbitrary-drinking",
   "metadata": {},
   "outputs": [
    {
     "ename": "NameError",
     "evalue": "name 'gmpy2' is not defined",
     "output_type": "error",
     "traceback": [
      "\u001b[1;31m---------------------------------------------------------------------------\u001b[0m",
      "\u001b[1;31mNameError\u001b[0m                                 Traceback (most recent call last)",
      "\u001b[1;32m<ipython-input-1-2cb4d42f5794>\u001b[0m in \u001b[0;36m<module>\u001b[1;34m\u001b[0m\n\u001b[0;32m      1\u001b[0m \u001b[1;31m#gmpy2.next_prime finds the next prime after that number\u001b[0m\u001b[1;33m\u001b[0m\u001b[1;33m\u001b[0m\u001b[1;33m\u001b[0m\u001b[0m\n\u001b[1;32m----> 2\u001b[1;33m \u001b[0mp\u001b[0m \u001b[1;33m=\u001b[0m \u001b[0mgmpy2\u001b[0m\u001b[1;33m.\u001b[0m\u001b[0mnext_prime\u001b[0m\u001b[1;33m(\u001b[0m\u001b[1;36m4206942069420691234123456785678\u001b[0m\u001b[1;33m)\u001b[0m\u001b[1;33m\u001b[0m\u001b[1;33m\u001b[0m\u001b[0m\n\u001b[0m\u001b[0;32m      3\u001b[0m \u001b[0mq\u001b[0m \u001b[1;33m=\u001b[0m \u001b[0mgmpy2\u001b[0m\u001b[1;33m.\u001b[0m\u001b[0mnext_prime\u001b[0m\u001b[1;33m(\u001b[0m\u001b[1;36m658548751454832985448157948843845478\u001b[0m\u001b[1;33m)\u001b[0m\u001b[1;33m\u001b[0m\u001b[1;33m\u001b[0m\u001b[0m\n\u001b[0;32m      4\u001b[0m \u001b[1;33m\u001b[0m\u001b[0m\n\u001b[0;32m      5\u001b[0m \u001b[1;31m#N value is p * q\u001b[0m\u001b[1;33m\u001b[0m\u001b[1;33m\u001b[0m\u001b[1;33m\u001b[0m\u001b[0m\n",
      "\u001b[1;31mNameError\u001b[0m: name 'gmpy2' is not defined"
     ]
    }
   ],
   "source": [
    "#gmpy2.next_prime finds the next prime after that number\n",
    "p = gmpy2.next_prime(4206942069420691234123456785678)\n",
    "q = gmpy2.next_prime(658548751454832985448157948843845478)\n",
    "\n",
    "#N value is p * q\n",
    "n = p*q\n",
    "\n",
    "\n",
    "phi = (p-1) * (q-1)\n",
    "e=3\n",
    "\n",
    "while gmpty2.gcd(e, phi) != 1:\n",
    "    e +=2\n",
    "    \n",
    "#d * e is congruent to 1%phi\n",
    "\n",
    "d= gmpy2.invert(e,phi)"
   ]
  },
  {
   "cell_type": "code",
   "execution_count": null,
   "id": "adapted-michigan",
   "metadata": {},
   "outputs": [],
   "source": [
    "def encodeInt(message, n, e):\n",
    "    return gmpy2.powmod(message, e, n)\n",
    "\n",
    "def decodeInt(encrypted,n,d):\n",
    "    return gmpy2.powmod(encrypted,d,n)"
   ]
  },
  {
   "cell_type": "code",
   "execution_count": null,
   "id": "amateur-reduction",
   "metadata": {},
   "outputs": [],
   "source": [
    "print('Public: ', (n,e))\n",
    "\n",
    "#Don't print your private key stoopid\n",
    "print('Private: ', d)"
   ]
  },
  {
   "cell_type": "code",
   "execution_count": null,
   "id": "private-luxury",
   "metadata": {},
   "outputs": [],
   "source": [
    "encoded = encodeInt(12345, n, e)\n",
    "print(encoded)"
   ]
  },
  {
   "cell_type": "code",
   "execution_count": null,
   "id": "complicated-updating",
   "metadata": {},
   "outputs": [],
   "source": [
    "print(decodeInt(encoded, n, d))"
   ]
  },
  {
   "cell_type": "code",
   "execution_count": null,
   "id": "sought-western",
   "metadata": {},
   "outputs": [],
   "source": [
    "#Work with strings?\n",
    "encoded = encodeInt(string2int('wassup homie'), n, e)\n",
    "decoded = int2str(decodeInt(encoded, n, d))\n",
    "\n",
    "print(decoded)\n",
    "\n",
    "print(encoded)"
   ]
  }
 ],
 "metadata": {
  "kernelspec": {
   "display_name": "Python 3",
   "language": "python",
   "name": "python3"
  },
  "language_info": {
   "codemirror_mode": {
    "name": "ipython",
    "version": 3
   },
   "file_extension": ".py",
   "mimetype": "text/x-python",
   "name": "python",
   "nbconvert_exporter": "python",
   "pygments_lexer": "ipython3",
   "version": "3.9.1"
  }
 },
 "nbformat": 4,
 "nbformat_minor": 5
}
